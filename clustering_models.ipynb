{
 "cells": [
  {
   "cell_type": "code",
   "execution_count": 1,
   "metadata": {
    "collapsed": true
   },
   "outputs": [],
   "source": [
    "#Load the librarys\n",
    "import pandas as pd #To work with dataset\n",
    "import numpy as np #Math library\n",
    "import seaborn as sns #Graph library that use matplot in background\n",
    "import matplotlib.pyplot as plt #to plot some parameters in seaborn\n",
    "from sklearn.neighbors import KNeighborsClassifier"
   ]
  },
  {
   "cell_type": "code",
   "execution_count": 2,
   "metadata": {
    "collapsed": true
   },
   "outputs": [],
   "source": [
    "import matplotlib as mpl\n",
    "mpl.use('TKAgg')\n",
    "import matplotlib.pyplot as plt\n",
    "plt.ion();\n",
    "import matplotlib.cm as cm\n",
    "import numpy as np\n",
    "from scipy.spatial import ConvexHull\n",
    "from sklearn.mixture import GaussianMixture\n",
    "from scipy import linalg\n",
    "from sklearn.neighbors import NearestNeighbors"
   ]
  },
  {
   "cell_type": "code",
   "execution_count": 3,
   "metadata": {
    "collapsed": true
   },
   "outputs": [],
   "source": [
    "from sklearn.metrics import classification_report , confusion_matrix , accuracy_score\n",
    "from sklearn.svm import SVC\n",
    "from sklearn.tree import DecisionTreeClassifier"
   ]
  },
  {
   "cell_type": "code",
   "execution_count": 4,
   "metadata": {
    "collapsed": true
   },
   "outputs": [],
   "source": [
    "from triedpy import triedctk   as ctk\n",
    "from triedpy import triedsompy as SOM\n",
    "import matplotlib as mpl\n",
    "from matplotlib import cm\n",
    "import matplotlib.pyplot as plt\n",
    "import seaborn as sns\n",
    "import scipy.cluster.hierarchy as sch\n",
    "from sklearn.cluster import SpectralClustering"
   ]
  },
  {
   "cell_type": "code",
   "execution_count": 5,
   "metadata": {
    "collapsed": false
   },
   "outputs": [
    {
     "name": "stderr",
     "output_type": "stream",
     "text": [
      "C:\\Users\\HP\\Anaconda3\\lib\\site-packages\\sklearn\\ensemble\\weight_boosting.py:29: DeprecationWarning: numpy.core.umath_tests is an internal NumPy module and should not be imported. It will be removed in a future NumPy release.\n",
      "  from numpy.core.umath_tests import inner1d\n"
     ]
    },
    {
     "data": {
      "text/plain": [
       "<module 'exo4' from 'C:\\\\Users\\\\HP\\\\Anaconda3\\\\Scripts\\\\Project_DQ\\\\credit_bank_estimation\\\\exo4.py'>"
      ]
     },
     "execution_count": 5,
     "metadata": {},
     "output_type": "execute_result"
    }
   ],
   "source": [
    "import importlib as im\n",
    "import exo4\n",
    "im.reload(exo4)"
   ]
  },
  {
   "cell_type": "code",
   "execution_count": 6,
   "metadata": {
    "collapsed": false
   },
   "outputs": [],
   "source": [
    "from xgboost import XGBClassifier\n",
    "from sklearn.model_selection import train_test_split"
   ]
  },
  {
   "cell_type": "code",
   "execution_count": 7,
   "metadata": {
    "collapsed": false
   },
   "outputs": [],
   "source": [
    "import scipy\n",
    "from scipy.cluster import hierarchy\n",
    "import seaborn as sns\n",
    "from sklearn.metrics import silhouette_samples, silhouette_score\n",
    "from sklearn import preprocessing, model_selection, metrics, feature_selection\n",
    "from sklearn import (manifold, datasets, decomposition, ensemble,\n",
    "                     discriminant_analysis, random_projection)\n",
    "from sklearn.cluster import KMeans"
   ]
  },
  {
   "cell_type": "markdown",
   "metadata": {},
   "source": [
    "# I . Data Entry "
   ]
  },
  {
   "cell_type": "code",
   "execution_count": 8,
   "metadata": {
    "collapsed": true
   },
   "outputs": [],
   "source": [
    "df_credit = pd.read_csv(\"german_credit_data_risk.csv\",index_col=0)"
   ]
  },
  {
   "cell_type": "code",
   "execution_count": 9,
   "metadata": {
    "collapsed": false
   },
   "outputs": [
    {
     "data": {
      "text/plain": [
       "['Age',\n",
       " 'Sex',\n",
       " 'Job',\n",
       " 'Housing',\n",
       " 'Saving accounts',\n",
       " 'Checking account',\n",
       " 'Credit amount',\n",
       " 'Duration',\n",
       " 'Purpose',\n",
       " 'Risk']"
      ]
     },
     "execution_count": 9,
     "metadata": {},
     "output_type": "execute_result"
    }
   ],
   "source": [
    "list(df_credit)"
   ]
  },
  {
   "cell_type": "code",
   "execution_count": 10,
   "metadata": {
    "collapsed": false
   },
   "outputs": [
    {
     "data": {
      "text/html": [
       "<div>\n",
       "<table border=\"1\" class=\"dataframe\">\n",
       "  <thead>\n",
       "    <tr style=\"text-align: right;\">\n",
       "      <th></th>\n",
       "      <th>Age</th>\n",
       "      <th>Job</th>\n",
       "      <th>Credit amount</th>\n",
       "      <th>Duration</th>\n",
       "    </tr>\n",
       "  </thead>\n",
       "  <tbody>\n",
       "    <tr>\n",
       "      <th>count</th>\n",
       "      <td>1000.000000</td>\n",
       "      <td>1000.000000</td>\n",
       "      <td>1000.000000</td>\n",
       "      <td>1000.000000</td>\n",
       "    </tr>\n",
       "    <tr>\n",
       "      <th>mean</th>\n",
       "      <td>35.546000</td>\n",
       "      <td>1.904000</td>\n",
       "      <td>3271.258000</td>\n",
       "      <td>20.903000</td>\n",
       "    </tr>\n",
       "    <tr>\n",
       "      <th>std</th>\n",
       "      <td>11.375469</td>\n",
       "      <td>0.653614</td>\n",
       "      <td>2822.736876</td>\n",
       "      <td>12.058814</td>\n",
       "    </tr>\n",
       "    <tr>\n",
       "      <th>min</th>\n",
       "      <td>19.000000</td>\n",
       "      <td>0.000000</td>\n",
       "      <td>250.000000</td>\n",
       "      <td>4.000000</td>\n",
       "    </tr>\n",
       "    <tr>\n",
       "      <th>25%</th>\n",
       "      <td>27.000000</td>\n",
       "      <td>2.000000</td>\n",
       "      <td>1365.500000</td>\n",
       "      <td>12.000000</td>\n",
       "    </tr>\n",
       "    <tr>\n",
       "      <th>50%</th>\n",
       "      <td>33.000000</td>\n",
       "      <td>2.000000</td>\n",
       "      <td>2319.500000</td>\n",
       "      <td>18.000000</td>\n",
       "    </tr>\n",
       "    <tr>\n",
       "      <th>75%</th>\n",
       "      <td>42.000000</td>\n",
       "      <td>2.000000</td>\n",
       "      <td>3972.250000</td>\n",
       "      <td>24.000000</td>\n",
       "    </tr>\n",
       "    <tr>\n",
       "      <th>max</th>\n",
       "      <td>75.000000</td>\n",
       "      <td>3.000000</td>\n",
       "      <td>18424.000000</td>\n",
       "      <td>72.000000</td>\n",
       "    </tr>\n",
       "  </tbody>\n",
       "</table>\n",
       "</div>"
      ],
      "text/plain": [
       "               Age          Job  Credit amount     Duration\n",
       "count  1000.000000  1000.000000    1000.000000  1000.000000\n",
       "mean     35.546000     1.904000    3271.258000    20.903000\n",
       "std      11.375469     0.653614    2822.736876    12.058814\n",
       "min      19.000000     0.000000     250.000000     4.000000\n",
       "25%      27.000000     2.000000    1365.500000    12.000000\n",
       "50%      33.000000     2.000000    2319.500000    18.000000\n",
       "75%      42.000000     2.000000    3972.250000    24.000000\n",
       "max      75.000000     3.000000   18424.000000    72.000000"
      ]
     },
     "execution_count": 10,
     "metadata": {},
     "output_type": "execute_result"
    }
   ],
   "source": [
    "df_credit.describe()"
   ]
  },
  {
   "cell_type": "code",
   "execution_count": 11,
   "metadata": {
    "collapsed": false
   },
   "outputs": [],
   "source": [
    "df_credit = df_credit.fillna('unknown')"
   ]
  },
  {
   "cell_type": "code",
   "execution_count": 12,
   "metadata": {
    "collapsed": false
   },
   "outputs": [],
   "source": [
    "age_ranges      = [list(range(15 + 5*i,15 + 5*i+5)) for i in range(12)]\n",
    "duration_ranges = [list(range(5*i,5*i+5)) for i in range(14)]"
   ]
  },
  {
   "cell_type": "code",
   "execution_count": 13,
   "metadata": {
    "collapsed": false
   },
   "outputs": [],
   "source": [
    "ages = (df_credit['Age'].unique()).tolist()\n",
    "sexes = (df_credit['Sex'].unique()).tolist()\n",
    "jobs = (df_credit['Job'].unique()).tolist()\n",
    "housings = (df_credit['Housing'].unique()).tolist()\n",
    "save_account = (df_credit['Saving accounts'].unique()).tolist()\n",
    "check_account = (df_credit['Checking account'].unique()).tolist()\n",
    "credit_amounts = (df_credit['Credit amount'].unique()).tolist()\n",
    "durations = (df_credit['Duration'].unique()).tolist()\n",
    "purposes = (df_credit['Purpose'].unique()).tolist()\n",
    "risks = (df_credit['Risk'].unique()).tolist()"
   ]
  },
  {
   "cell_type": "code",
   "execution_count": 14,
   "metadata": {
    "collapsed": false
   },
   "outputs": [
    {
     "name": "stdout",
     "output_type": "stream",
     "text": [
      "2888.0675629490124\n"
     ]
    }
   ],
   "source": [
    "st = np.std(np.array(credit_amounts)) ; print(st)\n",
    "mx = np.max(np.array(credit_amounts))\n",
    "mean =  np.mean(np.array(credit_amounts))  "
   ]
  },
  {
   "cell_type": "code",
   "execution_count": 15,
   "metadata": {
    "collapsed": false
   },
   "outputs": [],
   "source": [
    "enc_age = []\n",
    "enc_sex = []\n",
    "enc_job = []\n",
    "enc_house = []\n",
    "enc_save = []\n",
    "enc_check = []\n",
    "enc_credit = []\n",
    "enc_duration = []\n",
    "enc_purpo = []\n",
    "enc_risk = []\n",
    "for idx in range(len(df_credit)):\n",
    "    ##--------------\n",
    "    a = df_credit.iloc[idx]['Age']\n",
    "    vect = np.zeros((len(age_ranges,)))\n",
    "    for j in range(len(age_ranges)):\n",
    "        if a in age_ranges[j]:\n",
    "            vect[j] = 1\n",
    "            break\n",
    "    enc_age.append(vect)\n",
    "    \n",
    "    ##-------------\n",
    "    a = df_credit.iloc[idx]['Sex']\n",
    "    vect = np.zeros((len(sexes,)))\n",
    "    ind = sexes.index(a)\n",
    "    vect[ind] = 1\n",
    "    enc_sex.append(vect)\n",
    "    ##------------\n",
    "    a = df_credit.iloc[idx]['Job']\n",
    "    vect = np.zeros((len(jobs,)))\n",
    "    ind = jobs.index(a)\n",
    "    vect[ind] = 1\n",
    "    enc_job.append(vect)\n",
    "    ## -----------\n",
    "    a = df_credit.iloc[idx]['Housing']\n",
    "    vect = np.zeros((len(housings,)))\n",
    "    ind = housings.index(a)\n",
    "    vect[ind] = 1\n",
    "    enc_house.append(vect)\n",
    "    ##____________\n",
    "    a = df_credit.iloc[idx]['Saving accounts']\n",
    "    vect = np.zeros((len(save_account,)))\n",
    "    ind = save_account.index(a)\n",
    "    vect[ind] = 1\n",
    "    enc_save.append(vect)\n",
    "    ##_____________\n",
    "    a = df_credit.iloc[idx]['Checking account']\n",
    "    vect = np.zeros((len(check_account,)))\n",
    "    ind = check_account.index(a)\n",
    "    vect[ind] = 1\n",
    "    enc_check.append(vect)\n",
    "    ##____________\n",
    "    a = df_credit.iloc[idx]['Credit amount']\n",
    "    #vect = np.zeros((len(credit_amounts,)))\n",
    "    #ind = credit_amounts.index(a)\n",
    "    #vect[ind] = 1\n",
    "    centred = a/mx #(a - mean)/st\n",
    "    enc_credit.append(centred)\n",
    "    ## ___________\n",
    "    \n",
    "    a = df_credit.iloc[idx]['Duration']\n",
    "    vect = np.zeros((len(duration_ranges,)))\n",
    "    for j in range(len(duration_ranges)):\n",
    "        if a in duration_ranges[j]:\n",
    "            vect[j] = 1\n",
    "            break\n",
    "    enc_duration.append(vect)\n",
    "    ##_____________\n",
    "    a = df_credit.iloc[idx]['Purpose']\n",
    "    vect = np.zeros((len(purposes,)))\n",
    "    ind = purposes.index(a)\n",
    "    vect[ind] = 1\n",
    "    enc_purpo.append(vect)\n",
    "    ##____________\n",
    "    a = df_credit.iloc[idx]['Risk']\n",
    "    vect = np.zeros((len(risks,)))\n",
    "    ind = risks.index(a)\n",
    "    vect[ind] = 1\n",
    "    enc_risk.append(vect)"
   ]
  },
  {
   "cell_type": "code",
   "execution_count": 16,
   "metadata": {
    "collapsed": true
   },
   "outputs": [],
   "source": [
    "enc_age = np.array(enc_age)\n",
    "enc_sex = np.array(enc_sex)\n",
    "enc_job = np.array(enc_job)\n",
    "enc_house = np.array(enc_house)\n",
    "enc_save = np.array(enc_save)\n",
    "enc_check = np.array(enc_check)\n",
    "enc_credit = np.array(enc_credit)\n",
    "enc_duration = np.array(enc_duration)\n",
    "enc_purpo = np.array(enc_purpo)\n",
    "enc_risk = np.array(enc_risk)"
   ]
  },
  {
   "cell_type": "code",
   "execution_count": 17,
   "metadata": {
    "collapsed": false
   },
   "outputs": [],
   "source": [
    "risk = np.array([np.argmax(r) for r in enc_risk])"
   ]
  },
  {
   "cell_type": "code",
   "execution_count": 18,
   "metadata": {
    "collapsed": false
   },
   "outputs": [],
   "source": [
    "X_all = np.concatenate((enc_age,enc_sex,enc_job,enc_house,enc_save,enc_check,enc_credit.reshape((-1,1)),enc_duration,enc_purpo),axis = 1)"
   ]
  },
  {
   "cell_type": "markdown",
   "metadata": {},
   "source": [
    "# Explore Data "
   ]
  },
  {
   "cell_type": "markdown",
   "metadata": {},
   "source": [
    "# Correlation Study"
   ]
  },
  {
   "cell_type": "code",
   "execution_count": 19,
   "metadata": {
    "collapsed": false
   },
   "outputs": [],
   "source": [
    "pca = decomposition.PCA(30)\n",
    "pca.fit(X_all)\n",
    "pca_samples = pca.transform(X_all)"
   ]
  },
  {
   "cell_type": "code",
   "execution_count": 20,
   "metadata": {
    "collapsed": true
   },
   "outputs": [],
   "source": [
    "isomap = manifold.Isomap(n_neighbors=6, n_components=30)\n",
    "X_isomap = isomap.fit_transform(X_all)"
   ]
  },
  {
   "cell_type": "code",
   "execution_count": 21,
   "metadata": {
    "collapsed": true
   },
   "outputs": [],
   "source": [
    "from sklearn.decomposition import FastICA \n",
    "ICA = FastICA(n_components=30, random_state=0, tol = 0.01) "
   ]
  },
  {
   "cell_type": "code",
   "execution_count": 22,
   "metadata": {
    "collapsed": false
   },
   "outputs": [],
   "source": [
    "X_ICA = ICA.fit_transform(X_all)"
   ]
  },
  {
   "cell_type": "code",
   "execution_count": 23,
   "metadata": {
    "collapsed": false
   },
   "outputs": [],
   "source": [
    "hasher = ensemble.RandomTreesEmbedding(n_estimators=200, random_state=0,max_depth=5)\n",
    "X_transformed = hasher.fit_transform(X_all)\n",
    "pca = decomposition.TruncatedSVD(30) # Truncated\n",
    "X_reduced = pca.fit_transform(X_transformed)"
   ]
  },
  {
   "cell_type": "code",
   "execution_count": 25,
   "metadata": {
    "collapsed": true
   },
   "outputs": [
    {
     "name": "stdout",
     "output_type": "stream",
     "text": [
      "[t-SNE] Computing 61 nearest neighbors...\n",
      "[t-SNE] Indexed 1000 samples in 0.004s...\n",
      "[t-SNE] Computed neighbors for 1000 samples in 0.128s...\n",
      "[t-SNE] Computed conditional probabilities for sample 1000 / 1000\n",
      "[t-SNE] Mean sigma: 2.618927\n",
      "[t-SNE] Computed conditional probabilities in 0.078s\n",
      "[t-SNE] Iteration 50: error = 75.8139648, gradient norm = 0.3214123 (50 iterations in 1.995s)\n",
      "[t-SNE] Iteration 100: error = 76.0347672, gradient norm = 0.2884055 (50 iterations in 2.169s)\n",
      "[t-SNE] Iteration 150: error = 75.8749390, gradient norm = 0.2789729 (50 iterations in 2.442s)\n",
      "[t-SNE] Iteration 200: error = 75.9820328, gradient norm = 0.2991431 (50 iterations in 2.741s)\n",
      "[t-SNE] Iteration 250: error = 76.0781326, gradient norm = 0.2841299 (50 iterations in 2.157s)\n",
      "[t-SNE] KL divergence after 250 iterations with early exaggeration: 76.078133\n",
      "[t-SNE] Iteration 300: error = 1.8010045, gradient norm = 0.0017572 (50 iterations in 1.570s)\n",
      "[t-SNE] Iteration 350: error = 1.6543314, gradient norm = 0.0005163 (50 iterations in 1.411s)\n",
      "[t-SNE] Iteration 400: error = 1.6106815, gradient norm = 0.0002560 (50 iterations in 1.397s)\n",
      "[t-SNE] Iteration 450: error = 1.5892184, gradient norm = 0.0003467 (50 iterations in 1.406s)\n",
      "[t-SNE] Iteration 500: error = 1.5798435, gradient norm = 0.0002324 (50 iterations in 1.443s)\n",
      "[t-SNE] Iteration 550: error = 1.5724517, gradient norm = 0.0001812 (50 iterations in 1.424s)\n",
      "[t-SNE] Iteration 600: error = 1.5693511, gradient norm = 0.0001144 (50 iterations in 1.361s)\n",
      "[t-SNE] Iteration 650: error = 1.5664958, gradient norm = 0.0001191 (50 iterations in 1.365s)\n",
      "[t-SNE] Iteration 700: error = 1.5647011, gradient norm = 0.0001173 (50 iterations in 1.385s)\n",
      "[t-SNE] Iteration 750: error = 1.5629557, gradient norm = 0.0001084 (50 iterations in 1.436s)\n",
      "[t-SNE] Iteration 800: error = 1.5620036, gradient norm = 0.0000916 (50 iterations in 1.380s)\n",
      "[t-SNE] Iteration 850: error = 1.5610241, gradient norm = 0.0000744 (50 iterations in 1.338s)\n",
      "[t-SNE] Iteration 900: error = 1.5604155, gradient norm = 0.0001137 (50 iterations in 1.333s)\n",
      "[t-SNE] Iteration 950: error = 1.5601047, gradient norm = 0.0000770 (50 iterations in 1.474s)\n",
      "[t-SNE] Iteration 1000: error = 1.5594118, gradient norm = 0.0001060 (50 iterations in 1.580s)\n",
      "[t-SNE] Error after 1000 iterations: 1.559412\n"
     ]
    }
   ],
   "source": [
    "tsne = manifold.TSNE(n_components=2, init='pca', random_state=0,perplexity=20,verbose = 2)\n",
    "X_tsne = tsne.fit_transform(X_isomap)"
   ]
  },
  {
   "cell_type": "code",
   "execution_count": 26,
   "metadata": {
    "collapsed": false
   },
   "outputs": [],
   "source": [
    "convex_hulls_tsne = exo4.convexHulls(X_tsne[:,:2], risk)\n",
    "ellipses_tsne = exo4.best_ellipses(X_tsne[:,:2], risk)\n",
    "nh_tsne = exo4.neighboring_hit(X_tsne[:,:2], risk)"
   ]
  },
  {
   "cell_type": "code",
   "execution_count": 27,
   "metadata": {
    "collapsed": false
   },
   "outputs": [],
   "source": [
    "exo4.visualization(X_tsne[:,:2], risk, convex_hulls = convex_hulls_tsne, ellipses = ellipses_tsne,projname = 'ICA - TSNE', nh = nh_tsne)"
   ]
  },
  {
   "cell_type": "code",
   "execution_count": 28,
   "metadata": {
    "collapsed": true
   },
   "outputs": [],
   "source": [
    "import umap\n",
    "um = umap.UMAP(n_neighbors=5, min_dist=0.3, n_components=3)\n",
    "#.fit_transform(X_all)"
   ]
  },
  {
   "cell_type": "code",
   "execution_count": 29,
   "metadata": {
    "collapsed": false
   },
   "outputs": [],
   "source": [
    "colors = []\n",
    "for l in enc_risk:\n",
    "    if(l[0] == 1):\n",
    "        colors.append('blue')\n",
    "    else:\n",
    "        colors.append('red')"
   ]
  },
  {
   "cell_type": "code",
   "execution_count": 30,
   "metadata": {
    "collapsed": true
   },
   "outputs": [],
   "source": [
    "varnames = ['#  '+str(i) for i in range(0,30)]"
   ]
  },
  {
   "cell_type": "code",
   "execution_count": 56,
   "metadata": {
    "collapsed": true
   },
   "outputs": [],
   "source": [
    "ran = np.array(range(1000))"
   ]
  },
  {
   "cell_type": "code",
   "execution_count": 68,
   "metadata": {
    "collapsed": true
   },
   "outputs": [],
   "source": [
    "ran_train , ran_test = train_test_split(ran,test_size = 0.3)"
   ]
  },
  {
   "cell_type": "code",
   "execution_count": 69,
   "metadata": {
    "collapsed": false
   },
   "outputs": [],
   "source": [
    "#X_train_iso , X_test_iso , X_train_ica , X_test_ica, r_train , r_test = train_test_split(X_isomap , X_ICA,enc_risk,test_size = 0.3)\n",
    "#risk1 = [np.argmax(x) for x in r_train]\n",
    "#risk2 = [np.argmax(x) for x in r_test]"
   ]
  },
  {
   "cell_type": "code",
   "execution_count": 70,
   "metadata": {
    "collapsed": true
   },
   "outputs": [],
   "source": [
    "X_train_iso , X_test_iso , X_train_ica , X_test_ica, r_train , r_test = X_isomap[ran_train] ,X_isomap[ran_test], X_ICA[ran_train] , X_ICA[ran_test] , enc_risk[ran_train] , enc_risk[ran_test]"
   ]
  },
  {
   "cell_type": "code",
   "execution_count": 89,
   "metadata": {
    "collapsed": true
   },
   "outputs": [],
   "source": [
    "X_train_pca , X_test_pca = X_reduced[ran_train] , X_reduced[ran_test]"
   ]
  },
  {
   "cell_type": "code",
   "execution_count": 90,
   "metadata": {
    "collapsed": true
   },
   "outputs": [],
   "source": [
    "X_mlp_train , X_mlp_test = X_hidden_mlp[ran_train] , X_hidden_mlp[ran_test]"
   ]
  },
  {
   "cell_type": "code",
   "execution_count": 91,
   "metadata": {
    "collapsed": false
   },
   "outputs": [
    {
     "name": "stdout",
     "output_type": "stream",
     "text": [
      "Accuracy Score 0.66\n",
      "Classification Report              precision    recall  f1-score   support\n",
      "\n",
      "          0       0.76      0.76      0.76       212\n",
      "          1       0.42      0.41      0.41        88\n",
      "\n",
      "avg / total       0.66      0.66      0.66       300\n",
      "\n",
      "Conf. Matrix \n",
      " [[162  50]\n",
      " [ 52  36]]\n"
     ]
    },
    {
     "name": "stderr",
     "output_type": "stream",
     "text": [
      "C:\\Users\\HP\\Anaconda3\\lib\\site-packages\\sklearn\\discriminant_analysis.py:388: UserWarning: Variables are collinear.\n",
      "  warnings.warn(\"Variables are collinear.\")\n"
     ]
    }
   ],
   "source": [
    "clf = discriminant_analysis.LinearDiscriminantAnalysis()\n",
    "clf.fit(X_mlp_train, risk1) # Quadratic\n",
    "r_lda = clf.predict(X_mlp_test)\n",
    "print(\"Accuracy Score\",accuracy_score(risk2,r_lda))\n",
    "print(\"Classification Report\",classification_report(risk2,r_lda))\n",
    "print(\"Conf. Matrix \\n\",confusion_matrix(risk2,r_lda))"
   ]
  },
  {
   "cell_type": "code",
   "execution_count": 88,
   "metadata": {
    "collapsed": false
   },
   "outputs": [
    {
     "name": "stdout",
     "output_type": "stream",
     "text": [
      "Accuracy Score 0.73\n",
      "Classification Report              precision    recall  f1-score   support\n",
      "\n",
      "          0       0.77      0.89      0.82       212\n",
      "          1       0.56      0.35      0.43        88\n",
      "\n",
      "avg / total       0.71      0.73      0.71       300\n",
      "\n",
      "Conf. Matrix \n",
      " [[188  24]\n",
      " [ 57  31]]\n"
     ]
    }
   ],
   "source": [
    "clf = discriminant_analysis.LinearDiscriminantAnalysis()\n",
    "clf.fit(X_train_iso, risk1) # Quadratic\n",
    "r_lda = clf.predict(X_test_iso)\n",
    "print(\"Accuracy Score\",accuracy_score(risk2,r_lda))\n",
    "print(\"Classification Report\",classification_report(risk2,r_lda))\n",
    "print(\"Conf. Matrix \\n\",confusion_matrix(risk2,r_lda))"
   ]
  },
  {
   "cell_type": "markdown",
   "metadata": {},
   "source": [
    "### Clusters Visualisation"
   ]
  },
  {
   "cell_type": "code",
   "execution_count": 76,
   "metadata": {
    "collapsed": false
   },
   "outputs": [],
   "source": [
    "from sklearn.decomposition import FactorAnalysis\n",
    "X_FA = FactorAnalysis(n_components = 30).fit_transform(X_all)"
   ]
  },
  {
   "cell_type": "code",
   "execution_count": 77,
   "metadata": {
    "collapsed": false
   },
   "outputs": [],
   "source": [
    "risk1 = [np.argmax(x) for x in r_train]\n",
    "risk2 = [np.argmax(x) for x in r_test]"
   ]
  },
  {
   "cell_type": "code",
   "execution_count": 78,
   "metadata": {
    "collapsed": false
   },
   "outputs": [],
   "source": [
    "from keras.models import *\n",
    "from keras.layers import *"
   ]
  },
  {
   "cell_type": "markdown",
   "metadata": {},
   "source": [
    "### Classifiers "
   ]
  },
  {
   "cell_type": "code",
   "execution_count": 79,
   "metadata": {
    "collapsed": false
   },
   "outputs": [],
   "source": [
    "M1 = Sequential()\n",
    "M1.add(Dense(100,input_shape= (30,)))\n",
    "M1.add(Activation('relu'))\n",
    "M1.add(Dense(100))\n",
    "M1.add(Activation('relu'))\n",
    "M1.add(Dense(2))\n",
    "M1.add(Activation('softmax'))"
   ]
  },
  {
   "cell_type": "code",
   "execution_count": 80,
   "metadata": {
    "collapsed": false
   },
   "outputs": [
    {
     "name": "stdout",
     "output_type": "stream",
     "text": [
      "Train on 700 samples, validate on 300 samples\n",
      "Epoch 1/20\n",
      "700/700 [==============================] - 1s 2ms/step - loss: 0.5651 - acc: 0.7114 - val_loss: 0.5308 - val_acc: 0.7400\n",
      "Epoch 2/20\n",
      "700/700 [==============================] - 1s 1ms/step - loss: 0.4944 - acc: 0.7629 - val_loss: 0.5648 - val_acc: 0.7033\n",
      "Epoch 3/20\n",
      "700/700 [==============================] - 1s 1ms/step - loss: 0.4603 - acc: 0.7800 - val_loss: 0.5543 - val_acc: 0.7167\n",
      "Epoch 4/20\n",
      "700/700 [==============================] - 1s 1ms/step - loss: 0.4309 - acc: 0.7943 - val_loss: 0.5679 - val_acc: 0.7367\n",
      "Epoch 5/20\n",
      "700/700 [==============================] - 1s 2ms/step - loss: 0.4069 - acc: 0.8114 - val_loss: 0.5746 - val_acc: 0.7133\n",
      "Epoch 6/20\n",
      "700/700 [==============================] - 1s 1ms/step - loss: 0.3822 - acc: 0.8329 - val_loss: 0.5906 - val_acc: 0.6733\n",
      "Epoch 7/20\n",
      "700/700 [==============================] - 1s 1ms/step - loss: 0.3582 - acc: 0.8543 - val_loss: 0.6006 - val_acc: 0.6933\n",
      "Epoch 8/20\n",
      "700/700 [==============================] - 1s 1ms/step - loss: 0.3377 - acc: 0.8529 - val_loss: 0.6057 - val_acc: 0.6700\n",
      "Epoch 9/20\n",
      "700/700 [==============================] - 1s 1ms/step - loss: 0.3113 - acc: 0.8614 - val_loss: 0.6227 - val_acc: 0.6833\n",
      "Epoch 10/20\n",
      "700/700 [==============================] - 1s 1ms/step - loss: 0.2918 - acc: 0.8857 - val_loss: 0.6292 - val_acc: 0.6633\n",
      "Epoch 11/20\n",
      "700/700 [==============================] - 1s 1ms/step - loss: 0.2704 - acc: 0.8957 - val_loss: 0.6782 - val_acc: 0.6567\n",
      "Epoch 12/20\n",
      "700/700 [==============================] - 1s 1ms/step - loss: 0.2506 - acc: 0.9057 - val_loss: 0.6829 - val_acc: 0.7033\n",
      "Epoch 13/20\n",
      "700/700 [==============================] - 1s 1ms/step - loss: 0.2339 - acc: 0.9200 - val_loss: 0.7015 - val_acc: 0.6767\n",
      "Epoch 14/20\n",
      "700/700 [==============================] - 1s 1ms/step - loss: 0.2182 - acc: 0.9200 - val_loss: 0.7458 - val_acc: 0.6667\n",
      "Epoch 15/20\n",
      "700/700 [==============================] - 1s 2ms/step - loss: 0.1995 - acc: 0.9214 - val_loss: 0.7302 - val_acc: 0.6700\n",
      "Epoch 16/20\n",
      "700/700 [==============================] - 1s 1ms/step - loss: 0.1860 - acc: 0.9486 - val_loss: 0.7769 - val_acc: 0.6733\n",
      "Epoch 17/20\n",
      "700/700 [==============================] - 1s 1ms/step - loss: 0.1755 - acc: 0.9357 - val_loss: 0.7992 - val_acc: 0.6700\n",
      "Epoch 18/20\n",
      "700/700 [==============================] - 1s 1ms/step - loss: 0.1580 - acc: 0.9500 - val_loss: 0.8029 - val_acc: 0.7000\n",
      "Epoch 19/20\n",
      "700/700 [==============================] - 1s 1ms/step - loss: 0.1517 - acc: 0.9514 - val_loss: 0.8311 - val_acc: 0.6667\n",
      "Epoch 20/20\n",
      "700/700 [==============================] - 1s 2ms/step - loss: 0.1393 - acc: 0.9557 - val_loss: 0.8740 - val_acc: 0.6600\n"
     ]
    },
    {
     "data": {
      "text/plain": [
       "<keras.callbacks.History at 0x25367182710>"
      ]
     },
     "execution_count": 80,
     "metadata": {},
     "output_type": "execute_result"
    }
   ],
   "source": [
    "M1.compile(optimizer='adamax',loss='categorical_crossentropy',metrics = ['accuracy']) \n",
    "M1.fit(X_train_iso,r_train,epochs = 20, batch_size = 2,validation_data = (X_test_iso,r_test) ) "
   ]
  },
  {
   "cell_type": "code",
   "execution_count": 81,
   "metadata": {
    "collapsed": false
   },
   "outputs": [],
   "source": [
    "r_pred = M1.predict(X_test_iso)"
   ]
  },
  {
   "cell_type": "code",
   "execution_count": 82,
   "metadata": {
    "collapsed": false
   },
   "outputs": [],
   "source": [
    "labels = [np.argmax(l) for l in r_pred]\n",
    "orig = [np.argmax(l) for l in r_test]"
   ]
  },
  {
   "cell_type": "code",
   "execution_count": 83,
   "metadata": {
    "collapsed": true
   },
   "outputs": [
    {
     "name": "stdout",
     "output_type": "stream",
     "text": [
      "_________________________________________________________________\n",
      "Layer (type)                 Output Shape              Param #   \n",
      "=================================================================\n",
      "dense_4 (Dense)              (None, 100)               3100      \n",
      "_________________________________________________________________\n",
      "activation_4 (Activation)    (None, 100)               0         \n",
      "_________________________________________________________________\n",
      "dense_5 (Dense)              (None, 100)               10100     \n",
      "_________________________________________________________________\n",
      "activation_5 (Activation)    (None, 100)               0         \n",
      "_________________________________________________________________\n",
      "dense_6 (Dense)              (None, 2)                 202       \n",
      "_________________________________________________________________\n",
      "activation_6 (Activation)    (None, 2)                 0         \n",
      "=================================================================\n",
      "Total params: 13,402\n",
      "Trainable params: 13,402\n",
      "Non-trainable params: 0\n",
      "_________________________________________________________________\n"
     ]
    }
   ],
   "source": [
    "M1.summary()"
   ]
  },
  {
   "cell_type": "code",
   "execution_count": 204,
   "metadata": {
    "collapsed": true
   },
   "outputs": [],
   "source": [
    "M1.pop()"
   ]
  },
  {
   "cell_type": "code",
   "execution_count": 240,
   "metadata": {
    "collapsed": false
   },
   "outputs": [],
   "source": [
    "X_hidden_mlp_test = M1.predict(X_test_iso)"
   ]
  },
  {
   "cell_type": "code",
   "execution_count": 85,
   "metadata": {
    "collapsed": true
   },
   "outputs": [],
   "source": [
    "X_hidden_mlp = M1.predict(X_isomap)"
   ]
  },
  {
   "cell_type": "code",
   "execution_count": 242,
   "metadata": {
    "collapsed": true
   },
   "outputs": [
    {
     "name": "stdout",
     "output_type": "stream",
     "text": [
      "[t-SNE] Computing 61 nearest neighbors...\n",
      "[t-SNE] Indexed 1000 samples in 0.001s...\n",
      "[t-SNE] Computed neighbors for 1000 samples in 0.018s...\n",
      "[t-SNE] Computed conditional probabilities for sample 1000 / 1000\n",
      "[t-SNE] Mean sigma: 0.000015\n",
      "[t-SNE] Computed conditional probabilities in 0.063s\n",
      "[t-SNE] Iteration 50: error = 58.7056961, gradient norm = 0.2003605 (50 iterations in 1.229s)\n",
      "[t-SNE] Iteration 100: error = 55.2619095, gradient norm = 0.1913255 (50 iterations in 1.523s)\n",
      "[t-SNE] Iteration 150: error = 52.0964737, gradient norm = 0.1799692 (50 iterations in 1.727s)\n",
      "[t-SNE] Iteration 200: error = 50.7130089, gradient norm = 0.1816807 (50 iterations in 1.736s)\n",
      "[t-SNE] Iteration 250: error = 49.9559708, gradient norm = 0.1811859 (50 iterations in 1.762s)\n",
      "[t-SNE] KL divergence after 250 iterations with early exaggeration: 49.955971\n",
      "[t-SNE] Iteration 300: error = 0.4096695, gradient norm = 0.0007722 (50 iterations in 1.366s)\n",
      "[t-SNE] Iteration 350: error = 0.2921395, gradient norm = 0.0003392 (50 iterations in 1.210s)\n",
      "[t-SNE] Iteration 400: error = 0.2625177, gradient norm = 0.0002510 (50 iterations in 1.141s)\n",
      "[t-SNE] Iteration 450: error = 0.2472990, gradient norm = 0.0002205 (50 iterations in 1.129s)\n",
      "[t-SNE] Iteration 500: error = 0.2393595, gradient norm = 0.0001733 (50 iterations in 1.106s)\n",
      "[t-SNE] Iteration 550: error = 0.2338353, gradient norm = 0.0001480 (50 iterations in 1.143s)\n",
      "[t-SNE] Iteration 600: error = 0.2293402, gradient norm = 0.0001411 (50 iterations in 1.454s)\n",
      "[t-SNE] Iteration 650: error = 0.2259506, gradient norm = 0.0001371 (50 iterations in 1.246s)\n",
      "[t-SNE] Iteration 700: error = 0.2233129, gradient norm = 0.0001440 (50 iterations in 1.190s)\n",
      "[t-SNE] Iteration 750: error = 0.2207935, gradient norm = 0.0001319 (50 iterations in 1.082s)\n",
      "[t-SNE] Iteration 800: error = 0.2180000, gradient norm = 0.0001304 (50 iterations in 1.089s)\n",
      "[t-SNE] Iteration 850: error = 0.2145071, gradient norm = 0.0001192 (50 iterations in 1.097s)\n",
      "[t-SNE] Iteration 900: error = 0.2127080, gradient norm = 0.0001002 (50 iterations in 1.112s)\n",
      "[t-SNE] Iteration 950: error = 0.2114667, gradient norm = 0.0000967 (50 iterations in 1.113s)\n",
      "[t-SNE] Iteration 1000: error = 0.2103798, gradient norm = 0.0000899 (50 iterations in 1.128s)\n",
      "[t-SNE] Error after 1000 iterations: 0.210380\n"
     ]
    }
   ],
   "source": [
    "X_hidden_train_tsne = tsne.fit_transform(X_hidden_mlp_train)"
   ]
  },
  {
   "cell_type": "code",
   "execution_count": 243,
   "metadata": {
    "collapsed": false
   },
   "outputs": [],
   "source": [
    "convex_hulls_tsne = exo4.convexHulls(X_hidden_train_tsne, risk)\n",
    "ellipses_tsne = exo4.best_ellipses(X_hidden_train_tsne, risk)\n",
    "nh_tsne = exo4.neighboring_hit(X_hidden_train_tsne, risk)\n",
    "\n",
    "exo4.visualization(X_hidden_train_tsne, risk, convex_hulls = convex_hulls_tsne, ellipses = ellipses_tsne,projname = 't-SNE', nh = nh_tsne)"
   ]
  },
  {
   "cell_type": "code",
   "execution_count": 211,
   "metadata": {
    "collapsed": false
   },
   "outputs": [
    {
     "data": {
      "text/plain": [
       "(700, 2)"
      ]
     },
     "execution_count": 211,
     "metadata": {},
     "output_type": "execute_result"
    }
   ],
   "source": [
    "X_hidden_train_tsne.shape"
   ]
  },
  {
   "cell_type": "code",
   "execution_count": 86,
   "metadata": {
    "collapsed": true
   },
   "outputs": [],
   "source": [
    "neigh = KNeighborsClassifier(n_neighbors=20)\n",
    "#neigh.fit(X, y) "
   ]
  },
  {
   "cell_type": "code",
   "execution_count": 87,
   "metadata": {
    "collapsed": false
   },
   "outputs": [
    {
     "data": {
      "text/plain": [
       "KNeighborsClassifier(algorithm='auto', leaf_size=30, metric='minkowski',\n",
       "           metric_params=None, n_jobs=1, n_neighbors=20, p=2,\n",
       "           weights='uniform')"
      ]
     },
     "execution_count": 87,
     "metadata": {},
     "output_type": "execute_result"
    }
   ],
   "source": [
    "neigh.fit(X_train_tsne, risk1) "
   ]
  },
  {
   "cell_type": "code",
   "execution_count": 90,
   "metadata": {
    "collapsed": false
   },
   "outputs": [],
   "source": [
    "r_knn = neigh.predict(X_train_tsne)"
   ]
  },
  {
   "cell_type": "code",
   "execution_count": 91,
   "metadata": {
    "collapsed": false
   },
   "outputs": [
    {
     "name": "stdout",
     "output_type": "stream",
     "text": [
      "             precision    recall  f1-score   support\n",
      "\n",
      "          0       0.71      0.99      0.83       493\n",
      "          1       0.50      0.02      0.04       207\n",
      "\n",
      "avg / total       0.65      0.70      0.59       700\n",
      "\n"
     ]
    }
   ],
   "source": [
    "print(classification_report(risk1,r_knn))"
   ]
  },
  {
   "cell_type": "code",
   "execution_count": 64,
   "metadata": {
    "collapsed": false
   },
   "outputs": [
    {
     "name": "stdout",
     "output_type": "stream",
     "text": [
      "[[181  26]\n",
      " [ 77  16]]\n"
     ]
    }
   ],
   "source": [
    "print(confusion_matrix(risk2,r_knn))"
   ]
  },
  {
   "cell_type": "code",
   "execution_count": null,
   "metadata": {
    "collapsed": true
   },
   "outputs": [],
   "source": []
  }
 ],
 "metadata": {
  "anaconda-cloud": {},
  "kernelspec": {
   "display_name": "Python [Anaconda3]",
   "language": "python",
   "name": "Python [Anaconda3]"
  },
  "language_info": {
   "codemirror_mode": {
    "name": "ipython",
    "version": 3
   },
   "file_extension": ".py",
   "mimetype": "text/x-python",
   "name": "python",
   "nbconvert_exporter": "python",
   "pygments_lexer": "ipython3",
   "version": "3.5.2"
  }
 },
 "nbformat": 4,
 "nbformat_minor": 2
}
